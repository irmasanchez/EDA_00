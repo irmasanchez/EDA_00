{
 "cells": [
  {
   "cell_type": "markdown",
   "id": "42521404",
   "metadata": {},
   "source": [
    "    Nombre : Gozde Yazganoglu \n",
    "    email : gozde.yazganoglu@cunef.edu\n",
    "    git : https://github.com/gozdeydd"
   ]
  },
  {
   "cell_type": "markdown",
   "id": "6f71dfe5",
   "metadata": {},
   "source": [
    "# The Insurance Company Benchmark (COIL 2000)"
   ]
  },
  {
   "cell_type": "markdown",
   "id": "df0d6c1a",
   "metadata": {},
   "source": [
    "Tipo de datos: multivariante\n",
    "\n",
    "\n",
    "Resumen:\n",
    "\n",
    "Este conjunto de datos utilizado en CoIL 2000 Challenge contiene información sobre los clientes de una compañía de seguros. Los datos consisten en 86 variables e incluyen datos de uso de productos y datos sociodemográficos derivados de códigos postales. Los datos se recopilaron para responder a la siguiente pregunta: ¿Puede predecir quién estaría interesado en comprar una póliza de seguro de caravana y dar una explicación de por qué?\n",
    "\n",
    "Fuentes:\n",
    "\n",
    "Propietario original y donante:\n",
    "\n",
    "Peter van der Putten\n",
    "\n",
    "Investigación de máquinas inteligentes\n",
    "\n",
    "Baarsjesweg 224\n",
    "1058 AA Ámsterdam\n",
    "Los países bajos\n",
    "+31 20 6186927\n",
    "\n",
    "pvdputten@hotmail.com, putten@liacs.nl\n",
    "\n",
    "Página de inicio de TIC Benchmark\n",
    "\n",
    "Fecha de donación: 7 de marzo de 2000\n",
    "\n",
    "\n",
    "Características de los datos:\n",
    "\n",
    "\n",
    "La información sobre los clientes consta de 86 variables e incluye datos de uso del producto y datos sociodemográficos derivados de los códigos postales. Los datos fueron proporcionados por la empresa holandesa de minería de datos Sentient Machine Research y se basan en un problema empresarial del mundo real. El conjunto de capacitación contiene más de 5000 descripciones de clientes, incluida la información de si tienen o no una póliza de seguro de caravana. Un conjunto de prueba contiene 4000 clientes de los cuales solo los organizadores saben si tienen una póliza de seguro de caravana.\n",
    "\n",
    "El diccionario de datos describe las variables utilizadas y sus valores.\n",
    "\n",
    "Nota: Todas las variables que comienzan con M son variables de código postal. Dan información sobre la distribución de esa variable, p. Casa alquilada, en el área del código postal del cliente."
   ]
  },
  {
   "cell_type": "code",
   "execution_count": 2,
   "id": "25717403",
   "metadata": {},
   "outputs": [],
   "source": [
    "import pandas as pd\n",
    "import numpy as np\n",
    "import pandas_profiling as pp\n",
    "from pandas_profiling import ProfileReport"
   ]
  },
  {
   "cell_type": "code",
   "execution_count": 5,
   "id": "2e30610b",
   "metadata": {},
   "outputs": [],
   "source": [
    "pd.set_option('display.max_columns', 500)\n",
    "pd.set_option('display.max_rows', 6000)"
   ]
  },
  {
   "cell_type": "markdown",
   "id": "5bdb5b35",
   "metadata": {},
   "source": [
    "Me perdi un poco solo mirando los nombres de columnas. Creo que tiene mas sentido en neerlandés. Para evitar equivocarme cambio nombre de las columnas y puesto en ingés para poder compartir con la comunidad luego. Mantengo los numeros de variables para que no mezclamos con dictionario."
   ]
  },
  {
   "cell_type": "code",
   "execution_count": 4,
   "id": "bd20ce6a",
   "metadata": {
    "scrolled": true
   },
   "outputs": [],
   "source": [
    "cols_train = ['1_cust_subtype','2_num_houses','3_avg_hh_size','4_avg_age','5_cust_type',\n",
    "        '6_rel_cat','7_rel_prot','8_rel_other','9_rel_none','10_mar_maried',\n",
    "        '11_mar_liv_tog','12_mar_other','13_mar_single','14_hh_woclild','15_hh_child',\n",
    "        '16_educ_high','17_educ_med','18_educ_low','19_ocup_high','20_ocup_entp',\n",
    "        '21_ocup_farmer','22_ocup_mid_man','23_ocup_skilled','24_ocup_unskilled','25_sc_a',\n",
    "        '26_sc_b1','27_sc_b2','28_sc_c','29_sc_d','30_home_rent',\n",
    "        '31_home_ovner','32_car_1','33_car_2','34_car_0','35_health_pub', \n",
    "        '36_health_priv','37_income_30','38_income_45','39_income_75','40_income_122',\n",
    "        '41_income_more','42_income_avg','43_purc_class','44_ins_amnt_3rd','45_ins_firms',\n",
    "        '46_ins_agr','47_ins_car','48_ins_van','49_ins_moto','50_ins_lorry',\n",
    "        '51_ins_trailer','52_ins_tractors','53_ins_agr_mach','54_ins_moped','55_ins_life',\n",
    "        '56_ins_acc_pri','57_ins_acc_fam','58_ins_disab','59_ins_fire','60_ins_surf',\n",
    "        '61_ins_boat','62_ins_bike','63_ins_property','64_ins_socsec','65_num_ins_3rd',\n",
    "        '66_num_ins_firms','67_num_ins_agr','68_num_ins_car','69_num_ins_van','70_num_ins_moto',\n",
    "        '71_num_ins_lorry','72_num_ins_trailer','73_num_ins_tractor','74_num_ins_agrmac','75_num_ins_moped',\n",
    "        '76_num_ins_life','77_num_ins_acc_pri','78_num_ins_acc_fam','79_num_ins_disab','80_num_ins_fire',\n",
    "        '81_num_ins_surf','82_num_ins_boat','83_num_ins_bike','84_num_ins_property','85_num_ins_socsec',\n",
    "        '86_num_ins_caravan']\n",
    "\n",
    "cols_test = ['1_cust_subtype','2_num_houses','3_avg_hh_size','4_avg_age','5_cust_type',\n",
    "        '6_rel_cat','7_rel_prot','8_rel_other','9_rel_none','10_mar_maried',\n",
    "        '11_mar_liv_tog','12_mar_other','13_mar_single','14_hh_woclild','15_hh_child',\n",
    "        '16_educ_high','17_educ_med','18_educ_low','19_ocup_high','20_ocup_entp',\n",
    "        '21_ocup_farmer','22_ocup_mid_man','23_ocup_skilled','24_ocup_unskilled','25_sc_a',\n",
    "        '26_sc_b1','27_sc_b2','28_sc_c','29_sc_d','30_home_rent',\n",
    "        '31_home_ovner','32_car_1','33_car_2','34_car_0','35_health_pub', \n",
    "        '36_health_priv','37_income_30','38_income_45','39_income_75','40_income_122',\n",
    "        '41_income_more','42_income_avg','43_purc_class','44_ins_amnt_3rd','45_ins_firms',\n",
    "        '46_ins_agr','47_ins_car','48_ins_van','49_ins_moto','50_ins_lorry',\n",
    "        '51_ins_trailer','52_ins_tractors','53_ins_agr_mach','54_ins_moped','55_ins_life',\n",
    "        '56_ins_acc_pri','57_ins_acc_fam','58_ins_disab','59_ins_fire','60_ins_surf',\n",
    "        '61_ins_boat','62_ins_bike','63_ins_property','64_ins_socsec','65_num_ins_3rd',\n",
    "        '66_num_ins_firms','67_num_ins_agr','68_num_ins_car','69_num_ins_van','70_num_ins_moto',\n",
    "        '71_num_ins_lorry','72_num_ins_trailer','73_num_ins_tractor','74_num_ins_agrmac','75_num_ins_moped',\n",
    "        '76_num_ins_life','77_num_ins_acc_pri','78_num_ins_acc_fam','79_num_ins_disab','80_num_ins_fire',\n",
    "        '81_num_ins_surf','82_num_ins_boat','83_num_ins_bike','84_num_ins_property','85_num_ins_socsec'\n",
    "            ]"
   ]
  },
  {
   "cell_type": "code",
   "execution_count": 11,
   "id": "4258cce8",
   "metadata": {
    "scrolled": true
   },
   "outputs": [
    {
     "data": {
      "text/html": [
       "<div>\n",
       "<style scoped>\n",
       "    .dataframe tbody tr th:only-of-type {\n",
       "        vertical-align: middle;\n",
       "    }\n",
       "\n",
       "    .dataframe tbody tr th {\n",
       "        vertical-align: top;\n",
       "    }\n",
       "\n",
       "    .dataframe thead th {\n",
       "        text-align: right;\n",
       "    }\n",
       "</style>\n",
       "<table border=\"1\" class=\"dataframe\">\n",
       "  <thead>\n",
       "    <tr style=\"text-align: right;\">\n",
       "      <th></th>\n",
       "      <th>1_cust_subtype</th>\n",
       "      <th>2_num_houses</th>\n",
       "      <th>3_avg_hh_size</th>\n",
       "      <th>4_avg_age</th>\n",
       "      <th>5_cust_type</th>\n",
       "      <th>6_rel_cat</th>\n",
       "      <th>7_rel_prot</th>\n",
       "      <th>8_rel_other</th>\n",
       "      <th>9_rel_none</th>\n",
       "      <th>10_mar_maried</th>\n",
       "      <th>...</th>\n",
       "      <th>77_num_ins_acc_pri</th>\n",
       "      <th>78_num_ins_acc_fam</th>\n",
       "      <th>79_num_ins_disab</th>\n",
       "      <th>80_num_ins_fire</th>\n",
       "      <th>81_num_ins_surf</th>\n",
       "      <th>82_num_ins_boat</th>\n",
       "      <th>83_num_ins_bike</th>\n",
       "      <th>84_num_ins_property</th>\n",
       "      <th>85_num_ins_socsec</th>\n",
       "      <th>86_num_ins_caravan</th>\n",
       "    </tr>\n",
       "  </thead>\n",
       "  <tbody>\n",
       "    <tr>\n",
       "      <th>0</th>\n",
       "      <td>33</td>\n",
       "      <td>1</td>\n",
       "      <td>3</td>\n",
       "      <td>2</td>\n",
       "      <td>8</td>\n",
       "      <td>0</td>\n",
       "      <td>5</td>\n",
       "      <td>1</td>\n",
       "      <td>3</td>\n",
       "      <td>7</td>\n",
       "      <td>...</td>\n",
       "      <td>0</td>\n",
       "      <td>0</td>\n",
       "      <td>0</td>\n",
       "      <td>1</td>\n",
       "      <td>0</td>\n",
       "      <td>0</td>\n",
       "      <td>0</td>\n",
       "      <td>0</td>\n",
       "      <td>0</td>\n",
       "      <td>0</td>\n",
       "    </tr>\n",
       "    <tr>\n",
       "      <th>1</th>\n",
       "      <td>37</td>\n",
       "      <td>1</td>\n",
       "      <td>2</td>\n",
       "      <td>2</td>\n",
       "      <td>8</td>\n",
       "      <td>1</td>\n",
       "      <td>4</td>\n",
       "      <td>1</td>\n",
       "      <td>4</td>\n",
       "      <td>6</td>\n",
       "      <td>...</td>\n",
       "      <td>0</td>\n",
       "      <td>0</td>\n",
       "      <td>0</td>\n",
       "      <td>1</td>\n",
       "      <td>0</td>\n",
       "      <td>0</td>\n",
       "      <td>0</td>\n",
       "      <td>0</td>\n",
       "      <td>0</td>\n",
       "      <td>0</td>\n",
       "    </tr>\n",
       "    <tr>\n",
       "      <th>2</th>\n",
       "      <td>37</td>\n",
       "      <td>1</td>\n",
       "      <td>2</td>\n",
       "      <td>2</td>\n",
       "      <td>8</td>\n",
       "      <td>0</td>\n",
       "      <td>4</td>\n",
       "      <td>2</td>\n",
       "      <td>4</td>\n",
       "      <td>3</td>\n",
       "      <td>...</td>\n",
       "      <td>0</td>\n",
       "      <td>0</td>\n",
       "      <td>0</td>\n",
       "      <td>1</td>\n",
       "      <td>0</td>\n",
       "      <td>0</td>\n",
       "      <td>0</td>\n",
       "      <td>0</td>\n",
       "      <td>0</td>\n",
       "      <td>0</td>\n",
       "    </tr>\n",
       "    <tr>\n",
       "      <th>3</th>\n",
       "      <td>9</td>\n",
       "      <td>1</td>\n",
       "      <td>3</td>\n",
       "      <td>3</td>\n",
       "      <td>3</td>\n",
       "      <td>2</td>\n",
       "      <td>3</td>\n",
       "      <td>2</td>\n",
       "      <td>4</td>\n",
       "      <td>5</td>\n",
       "      <td>...</td>\n",
       "      <td>0</td>\n",
       "      <td>0</td>\n",
       "      <td>0</td>\n",
       "      <td>1</td>\n",
       "      <td>0</td>\n",
       "      <td>0</td>\n",
       "      <td>0</td>\n",
       "      <td>0</td>\n",
       "      <td>0</td>\n",
       "      <td>0</td>\n",
       "    </tr>\n",
       "    <tr>\n",
       "      <th>4</th>\n",
       "      <td>40</td>\n",
       "      <td>1</td>\n",
       "      <td>4</td>\n",
       "      <td>2</td>\n",
       "      <td>10</td>\n",
       "      <td>1</td>\n",
       "      <td>4</td>\n",
       "      <td>1</td>\n",
       "      <td>4</td>\n",
       "      <td>7</td>\n",
       "      <td>...</td>\n",
       "      <td>0</td>\n",
       "      <td>0</td>\n",
       "      <td>0</td>\n",
       "      <td>1</td>\n",
       "      <td>0</td>\n",
       "      <td>0</td>\n",
       "      <td>0</td>\n",
       "      <td>0</td>\n",
       "      <td>0</td>\n",
       "      <td>0</td>\n",
       "    </tr>\n",
       "  </tbody>\n",
       "</table>\n",
       "<p>5 rows × 86 columns</p>\n",
       "</div>"
      ],
      "text/plain": [
       "   1_cust_subtype  2_num_houses  3_avg_hh_size  4_avg_age  5_cust_type  \\\n",
       "0              33             1              3          2            8   \n",
       "1              37             1              2          2            8   \n",
       "2              37             1              2          2            8   \n",
       "3               9             1              3          3            3   \n",
       "4              40             1              4          2           10   \n",
       "\n",
       "   6_rel_cat  7_rel_prot  8_rel_other  9_rel_none  10_mar_maried  ...  \\\n",
       "0          0           5            1           3              7  ...   \n",
       "1          1           4            1           4              6  ...   \n",
       "2          0           4            2           4              3  ...   \n",
       "3          2           3            2           4              5  ...   \n",
       "4          1           4            1           4              7  ...   \n",
       "\n",
       "   77_num_ins_acc_pri  78_num_ins_acc_fam  79_num_ins_disab  80_num_ins_fire  \\\n",
       "0                   0                   0                 0                1   \n",
       "1                   0                   0                 0                1   \n",
       "2                   0                   0                 0                1   \n",
       "3                   0                   0                 0                1   \n",
       "4                   0                   0                 0                1   \n",
       "\n",
       "   81_num_ins_surf  82_num_ins_boat  83_num_ins_bike  84_num_ins_property  \\\n",
       "0                0                0                0                    0   \n",
       "1                0                0                0                    0   \n",
       "2                0                0                0                    0   \n",
       "3                0                0                0                    0   \n",
       "4                0                0                0                    0   \n",
       "\n",
       "   85_num_ins_socsec  86_num_ins_caravan  \n",
       "0                  0                   0  \n",
       "1                  0                   0  \n",
       "2                  0                   0  \n",
       "3                  0                   0  \n",
       "4                  0                   0  \n",
       "\n",
       "[5 rows x 86 columns]"
      ]
     },
     "execution_count": 11,
     "metadata": {},
     "output_type": "execute_result"
    }
   ],
   "source": [
    "data_train = pd.read_table('../Machine Learning Data tarea/ticdata2000.txt', header= None, names = cols_train)\n",
    "data_train.shape\n",
    "\n",
    "data_train.head()"
   ]
  },
  {
   "cell_type": "code",
   "execution_count": 12,
   "id": "c8cd1eab",
   "metadata": {},
   "outputs": [
    {
     "data": {
      "text/html": [
       "<div>\n",
       "<style scoped>\n",
       "    .dataframe tbody tr th:only-of-type {\n",
       "        vertical-align: middle;\n",
       "    }\n",
       "\n",
       "    .dataframe tbody tr th {\n",
       "        vertical-align: top;\n",
       "    }\n",
       "\n",
       "    .dataframe thead th {\n",
       "        text-align: right;\n",
       "    }\n",
       "</style>\n",
       "<table border=\"1\" class=\"dataframe\">\n",
       "  <thead>\n",
       "    <tr style=\"text-align: right;\">\n",
       "      <th></th>\n",
       "      <th>index</th>\n",
       "      <th>feature_type</th>\n",
       "    </tr>\n",
       "  </thead>\n",
       "  <tbody>\n",
       "    <tr>\n",
       "      <th>0</th>\n",
       "      <td>1_cust_subtype</td>\n",
       "      <td>int64</td>\n",
       "    </tr>\n",
       "    <tr>\n",
       "      <th>1</th>\n",
       "      <td>2_num_houses</td>\n",
       "      <td>int64</td>\n",
       "    </tr>\n",
       "    <tr>\n",
       "      <th>2</th>\n",
       "      <td>3_avg_hh_size</td>\n",
       "      <td>int64</td>\n",
       "    </tr>\n",
       "    <tr>\n",
       "      <th>3</th>\n",
       "      <td>4_avg_age</td>\n",
       "      <td>int64</td>\n",
       "    </tr>\n",
       "    <tr>\n",
       "      <th>4</th>\n",
       "      <td>5_cust_type</td>\n",
       "      <td>int64</td>\n",
       "    </tr>\n",
       "    <tr>\n",
       "      <th>...</th>\n",
       "      <td>...</td>\n",
       "      <td>...</td>\n",
       "    </tr>\n",
       "    <tr>\n",
       "      <th>81</th>\n",
       "      <td>82_num_ins_boat</td>\n",
       "      <td>int64</td>\n",
       "    </tr>\n",
       "    <tr>\n",
       "      <th>82</th>\n",
       "      <td>83_num_ins_bike</td>\n",
       "      <td>int64</td>\n",
       "    </tr>\n",
       "    <tr>\n",
       "      <th>83</th>\n",
       "      <td>84_num_ins_property</td>\n",
       "      <td>int64</td>\n",
       "    </tr>\n",
       "    <tr>\n",
       "      <th>84</th>\n",
       "      <td>85_num_ins_socsec</td>\n",
       "      <td>int64</td>\n",
       "    </tr>\n",
       "    <tr>\n",
       "      <th>85</th>\n",
       "      <td>86_num_ins_caravan</td>\n",
       "      <td>int64</td>\n",
       "    </tr>\n",
       "  </tbody>\n",
       "</table>\n",
       "<p>86 rows × 2 columns</p>\n",
       "</div>"
      ],
      "text/plain": [
       "                  index feature_type\n",
       "0        1_cust_subtype        int64\n",
       "1          2_num_houses        int64\n",
       "2         3_avg_hh_size        int64\n",
       "3             4_avg_age        int64\n",
       "4           5_cust_type        int64\n",
       "..                  ...          ...\n",
       "81      82_num_ins_boat        int64\n",
       "82      83_num_ins_bike        int64\n",
       "83  84_num_ins_property        int64\n",
       "84    85_num_ins_socsec        int64\n",
       "85   86_num_ins_caravan        int64\n",
       "\n",
       "[86 rows x 2 columns]"
      ]
     },
     "execution_count": 12,
     "metadata": {},
     "output_type": "execute_result"
    }
   ],
   "source": [
    "data_train.dtypes.to_frame('feature_type').reset_index()\n"
   ]
  },
  {
   "cell_type": "markdown",
   "id": "1af3493a",
   "metadata": {},
   "source": [
    "mayoria de los variables son tipo categoricos o cantidad de su propiedades, por eso esperamos todo int64.\n"
   ]
  },
  {
   "cell_type": "code",
   "execution_count": 13,
   "id": "15c7637e",
   "metadata": {},
   "outputs": [
    {
     "data": {
      "text/plain": [
       "1_cust_subtype         0\n",
       "2_num_houses           0\n",
       "3_avg_hh_size          0\n",
       "4_avg_age              0\n",
       "5_cust_type            0\n",
       "                      ..\n",
       "82_num_ins_boat        0\n",
       "83_num_ins_bike        0\n",
       "84_num_ins_property    0\n",
       "85_num_ins_socsec      0\n",
       "86_num_ins_caravan     0\n",
       "Length: 86, dtype: int64"
      ]
     },
     "execution_count": 13,
     "metadata": {},
     "output_type": "execute_result"
    }
   ],
   "source": [
    "data_train.isnull().sum()\n",
    "\n",
    "##no existe nulos en ningun columna"
   ]
  },
  {
   "cell_type": "code",
   "execution_count": 8,
   "id": "f287bf2a",
   "metadata": {},
   "outputs": [
    {
     "data": {
      "text/plain": [
       "(4000, 85)"
      ]
     },
     "execution_count": 8,
     "metadata": {},
     "output_type": "execute_result"
    }
   ],
   "source": [
    "data_test =pd.read_table('../Machine Learning Data tarea/ticeval2000.txt', header= None, names = cols_test)\n",
    "data_test\n",
    "data_test.shape\n"
   ]
  },
  {
   "cell_type": "code",
   "execution_count": 14,
   "id": "dc3f25c0",
   "metadata": {},
   "outputs": [
    {
     "data": {
      "text/plain": [
       "1_cust_subtype         0\n",
       "2_num_houses           0\n",
       "3_avg_hh_size          0\n",
       "4_avg_age              0\n",
       "5_cust_type            0\n",
       "                      ..\n",
       "81_num_ins_surf        0\n",
       "82_num_ins_boat        0\n",
       "83_num_ins_bike        0\n",
       "84_num_ins_property    0\n",
       "85_num_ins_socsec      0\n",
       "Length: 85, dtype: int64"
      ]
     },
     "execution_count": 14,
     "metadata": {},
     "output_type": "execute_result"
    }
   ],
   "source": [
    "data_test.isnull().sum()\n",
    "\n",
    "##no existe nulos en ningun columna\n",
    "\n",
    "\n",
    "   "
   ]
  },
  {
   "cell_type": "code",
   "execution_count": 9,
   "id": "98b077db",
   "metadata": {},
   "outputs": [
    {
     "name": "stdout",
     "output_type": "stream",
     "text": [
      "done\n"
     ]
    }
   ],
   "source": [
    "import sweetviz as sv\n",
    "print(\"done\")"
   ]
  },
  {
   "cell_type": "code",
   "execution_count": 15,
   "id": "d54cf840",
   "metadata": {},
   "outputs": [
    {
     "data": {
      "application/vnd.jupyter.widget-view+json": {
       "model_id": "0d49e64b762648978f8ae0ea8dc68d28",
       "version_major": 2,
       "version_minor": 0
      },
      "text/plain": [
       "                                             |                                                                …"
      ]
     },
     "metadata": {},
     "output_type": "display_data"
    },
    {
     "name": "stdout",
     "output_type": "stream",
     "text": [
      "Report primer_analisis.html was generated! NOTEBOOK/COLAB USERS: the web browser MAY not pop up, regardless, the report IS saved in your notebook/colab files.\n"
     ]
    }
   ],
   "source": [
    "analyze_report=sv.analyze(data_train)\n",
    "analyze_report.show_html('primer_analisis.html')"
   ]
  },
  {
   "cell_type": "code",
   "execution_count": 16,
   "id": "301ec1a9",
   "metadata": {},
   "outputs": [
    {
     "data": {
      "application/vnd.jupyter.widget-view+json": {
       "model_id": "da546681661a465291c7f1f279db2a6b",
       "version_major": 2,
       "version_minor": 0
      },
      "text/plain": [
       "                                             |                                                                …"
      ]
     },
     "metadata": {},
     "output_type": "display_data"
    },
    {
     "name": "stdout",
     "output_type": "stream",
     "text": [
      "Report compare.html was generated! NOTEBOOK/COLAB USERS: the web browser MAY not pop up, regardless, the report IS saved in your notebook/colab files.\n"
     ]
    }
   ],
   "source": [
    "compare_report = sv.compare([data_train, \"train\"],[data_test, \"test\"])\n",
    "compare_report.show_html(\"compare.html\")"
   ]
  },
  {
   "cell_type": "markdown",
   "id": "90ca15a1",
   "metadata": {
    "scrolled": false
   },
   "source": [
    "Compare report nos enseña que los datos training y los datos de test (y evaluacion) tienen mismo propiedades. por eso por ahora no vamos a mezclar despues de entrenamiento. Data_train se va utilizar como data de enrenamiento y data_test se va utilizar para test.\n"
   ]
  },
  {
   "cell_type": "code",
   "execution_count": 88,
   "id": "e765925a",
   "metadata": {},
   "outputs": [
    {
     "data": {
      "text/plain": [
       "[array([33, 37,  9, 40, 23, 39, 11, 10, 41, 38, 22, 13, 31, 34, 24,  8,  7,\n",
       "         3, 36, 25, 20, 12, 35, 30, 29, 32,  1, 26,  2,  4, 16,  5, 21,  6,\n",
       "        18, 27, 28, 17, 15, 19]),\n",
       " array([ 1,  2,  3, 10,  5,  7,  4,  8,  6]),\n",
       " array([3, 2, 4, 1, 5]),\n",
       " array([2, 3, 1, 4, 5, 6]),\n",
       " array([ 8,  3, 10,  5,  9,  7,  2,  1,  6,  4]),\n",
       " array([0, 1, 2, 3, 4, 6, 5, 9, 7, 8]),\n",
       " array([5, 4, 3, 2, 7, 1, 6, 9, 0, 8]),\n",
       " array([1, 2, 0, 3, 4, 5]),\n",
       " array([3, 4, 5, 2, 6, 7, 0, 1, 9, 8]),\n",
       " array([7, 6, 3, 5, 0, 1, 9, 8, 2, 4]),\n",
       " array([0, 2, 1, 6, 4, 3, 5, 7]),\n",
       " array([2, 4, 3, 0, 1, 6, 5, 7, 8, 9]),\n",
       " array([1, 0, 4, 2, 3, 5, 6, 7, 8, 9]),\n",
       " array([2, 4, 3, 5, 6, 0, 1, 7, 8, 9]),\n",
       " array([6, 5, 2, 4, 3, 1, 7, 9, 8, 0]),\n",
       " array([1, 0, 3, 5, 4, 2, 6, 7, 8, 9]),\n",
       " array([2, 5, 4, 3, 1, 7, 6, 0, 8, 9]),\n",
       " array([7, 4, 2, 0, 5, 6, 8, 3, 1, 9]),\n",
       " array([1, 0, 4, 2, 3, 6, 5, 7, 9, 8]),\n",
       " array([0, 5, 1, 2, 3, 4]),\n",
       " array([1, 0, 4, 3, 2, 5, 6, 7, 8, 9]),\n",
       " array([2, 5, 7, 3, 0, 4, 1, 9, 6, 8]),\n",
       " array([5, 0, 1, 2, 8, 3, 4, 6, 7, 9]),\n",
       " array([2, 4, 0, 5, 1, 3, 7, 6, 9, 8]),\n",
       " array([1, 0, 3, 9, 2, 4, 5, 6, 7, 8]),\n",
       " array([1, 2, 5, 0, 3, 4, 8, 6, 9, 7]),\n",
       " array([2, 3, 0, 1, 4, 6, 5, 7, 8, 9]),\n",
       " array([6, 5, 4, 0, 8, 1, 2, 7, 3, 9]),\n",
       " array([1, 0, 2, 5, 3, 4, 7, 6, 9]),\n",
       " array([1, 2, 7, 5, 4, 9, 6, 0, 8, 3]),\n",
       " array([8, 7, 2, 4, 5, 0, 3, 9, 1, 6]),\n",
       " array([8, 7, 9, 6, 5, 4, 3, 2, 1, 0]),\n",
       " array([0, 1, 2, 3, 4, 6, 5, 7]),\n",
       " array([1, 2, 0, 3, 4, 6, 5, 7, 8, 9]),\n",
       " array([8, 6, 9, 7, 5, 4, 3, 1, 2, 0]),\n",
       " array([1, 3, 0, 2, 4, 5, 6, 8, 7, 9]),\n",
       " array([0, 2, 4, 1, 5, 7, 3, 9, 6, 8]),\n",
       " array([4, 0, 5, 2, 3, 1, 6, 7, 8, 9]),\n",
       " array([5, 0, 3, 9, 1, 2, 4, 6, 8, 7]),\n",
       " array([0, 2, 1, 4, 3, 5, 9, 6, 8, 7]),\n",
       " array([0, 2, 1, 3, 4, 9, 5, 7]),\n",
       " array([4, 5, 3, 6, 2, 8, 1, 7, 9, 0]),\n",
       " array([3, 4, 5, 7, 2, 6, 1, 8]),\n",
       " array([0, 2, 1, 3]),\n",
       " array([0, 1, 3, 4, 2, 6, 5]),\n",
       " array([0, 3, 4, 2]),\n",
       " array([6, 0, 5, 7, 8, 4]),\n",
       " array([0, 5, 6, 7]),\n",
       " array([0, 4, 5, 6, 7, 3]),\n",
       " array([0, 6, 4, 9]),\n",
       " array([0, 2, 1, 3, 5, 4]),\n",
       " array([0, 3, 5, 4, 6]),\n",
       " array([0, 2, 6, 4, 3]),\n",
       " array([0, 3, 2, 4, 5, 6]),\n",
       " array([0, 4, 3, 2, 5, 9, 1, 7, 6, 8]),\n",
       " array([0, 2, 4, 1, 5, 6, 3]),\n",
       " array([0, 2, 3]),\n",
       " array([0, 6, 4, 7, 5]),\n",
       " array([5, 2, 6, 0, 3, 4, 1, 7, 8]),\n",
       " array([0, 1, 3]),\n",
       " array([0, 4, 1, 5, 2, 6, 3]),\n",
       " array([0, 1]),\n",
       " array([0, 2, 1, 3, 6, 5, 4]),\n",
       " array([0, 4, 3, 2, 5]),\n",
       " array([0, 2, 1]),\n",
       " array([0, 1, 5]),\n",
       " array([0, 1]),\n",
       " array([1, 0, 2, 7, 3, 6, 4]),\n",
       " array([0, 1, 4, 2, 3]),\n",
       " array([0, 1, 8, 2]),\n",
       " array([0, 1, 2, 3]),\n",
       " array([0, 1, 2, 3]),\n",
       " array([0, 1, 2, 3, 4]),\n",
       " array([0, 1, 3, 2, 6]),\n",
       " array([0, 1, 2]),\n",
       " array([0, 1, 2, 3, 8, 4]),\n",
       " array([0, 1]),\n",
       " array([0, 1]),\n",
       " array([0, 1, 2]),\n",
       " array([1, 0, 2, 3, 5, 4, 7]),\n",
       " array([0, 1]),\n",
       " array([0, 2, 1]),\n",
       " array([0, 1, 2, 3]),\n",
       " array([0, 1, 2]),\n",
       " array([0, 1, 2]),\n",
       " array([0, 1])]"
      ]
     },
     "execution_count": 88,
     "metadata": {},
     "output_type": "execute_result"
    }
   ],
   "source": [
    "## Quiero encontrar valores unicos por cada columna y encontrar su significado. \n",
    "## Su probabilidades nos puede dar una informacion.\n",
    "##calcular probabilidad???\n",
    "\n",
    "\n",
    "list_unique=[]\n",
    "u = []\n",
    "for i in data.columns:\n",
    "    u = data[i].unique()\n",
    "    list_unique.append(u)\n",
    "list_unique\n",
    "df_unico = "
   ]
  },
  {
   "cell_type": "code",
   "execution_count": null,
   "id": "551374f1",
   "metadata": {},
   "outputs": [],
   "source": []
  },
  {
   "cell_type": "markdown",
   "id": "c888c172",
   "metadata": {},
   "source": [
    "REFERENCIA\n",
    "\n",
    "P. van der Putten y M. van Someren (eds). CoIL Challenge 2000: El caso de la compañía de seguros.\n",
    "Publicado por Sentient Machine Research, Ámsterdam. También un informe técnico 2000-09 del Instituto Leiden de Ciencias Informáticas Avanzadas. 22 de junio de 2000."
   ]
  }
 ],
 "metadata": {
  "kernelspec": {
   "display_name": "practica1_eda_test",
   "language": "python",
   "name": "practica1_eda_test"
  },
  "language_info": {
   "codemirror_mode": {
    "name": "ipython",
    "version": 3
   },
   "file_extension": ".py",
   "mimetype": "text/x-python",
   "name": "python",
   "nbconvert_exporter": "python",
   "pygments_lexer": "ipython3",
   "version": "3.10.4"
  }
 },
 "nbformat": 4,
 "nbformat_minor": 5
}
